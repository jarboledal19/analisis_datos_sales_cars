{
 "cells": [
  {
   "cell_type": "markdown",
   "id": "82e8d289-6ac1-4e8b-9853-2f0bff55823e",
   "metadata": {},
   "source": [
    "## **Paso 1: Alcance del proyecto y captura de datos**\n",
    " **Identificar y recopilar los datos que usaras para tu proyecto**\n",
    "- Se obtienen los datos desde la plataforma Kaggle Datasets.\n",
    "- Este conjunto de datos contiene información sobre las ventas de automóviles de un concesionario en el transcurso de un año (2022-2023).\n",
    "- Es un archivo .CSV con  2.500.000 registros.\n",
    "- Con base a este, se analizaran las ventas a lo largo del tiempo y el desempeño de los vendedores.\n",
    "\n",
    "**Explicar para qué casos de uso final deseas preparar los datos, por ejemplo: tabla de análisis, \n",
    "aplicación de fondo base de datos de fuentes de verdad  etc.**\n",
    "- Monitoreo de ventas y comisiones por fecha.\n",
    "- Identificación de tendencias de ventas por marca y modelo de auto.\n",
    "- Análisis de rendimiento de ventas por vendedor.\n",
    "- Analisis y seguimiento de ventas por cliente. \n"
   ]
  },
  {
   "cell_type": "markdown",
   "id": "f3745737-8399-4290-87b2-22fd5784dc26",
   "metadata": {},
   "source": [
    "## Paso 2: Explorar y evaluar los datos, el EDA"
   ]
  },
  {
   "cell_type": "code",
   "execution_count": 408,
   "id": "42da1cbb-ccef-42ed-aabc-c63e8441c822",
   "metadata": {},
   "outputs": [],
   "source": [
    "# Importar la biblioteca Pandas\n",
    "import pandas as pd\n",
    "\n",
    "\n",
    "# Cargar datos desde un archivo CSV\n",
    "df = pd.read_csv('car_sales_data.csv')\n",
    "\n",
    "# Crea una copia del DataFrame original para realizar modificaciones\n",
    "df_copia = df.copy()  \n"
   ]
  },
  {
   "cell_type": "code",
   "execution_count": 409,
   "id": "d4dd95e2-384f-4af6-a1bd-699ad440330f",
   "metadata": {},
   "outputs": [
    {
     "name": "stdout",
     "output_type": "stream",
     "text": [
      "Total de registros data frame original: 2500000\n"
     ]
    }
   ],
   "source": [
    "#total de registros\n",
    "total_registro = len(df)\n",
    "print('Total de registros data frame original:',total_registro)"
   ]
  },
  {
   "cell_type": "code",
   "execution_count": 410,
   "id": "78510b2d-b07f-4b61-a699-9c19a95fd17c",
   "metadata": {},
   "outputs": [
    {
     "name": "stdout",
     "output_type": "stream",
     "text": [
      "         Date      Salesperson   Customer Name Car Make  Car Model  Car Year  \\\n",
      "0  2022-08-01  Monica Moore MD     Mary Butler   Nissan     Altima      2018   \n",
      "1  2023-03-15     Roberto Rose  Richard Pierce   Nissan      F-150      2016   \n",
      "2  2023-04-29     Ashley Ramos    Sandra Moore     Ford      Civic      2016   \n",
      "3  2022-09-04   Patrick Harris    Johnny Scott     Ford     Altima      2013   \n",
      "4  2022-06-16       Eric Lopez   Vanessa Jones    Honda  Silverado      2022   \n",
      "\n",
      "   Sale Price  Commission Rate  Commission Earned  \n",
      "0       15983         0.070495            1126.73  \n",
      "1       38474         0.134439            5172.40  \n",
      "2       33340         0.114536            3818.63  \n",
      "3       41937         0.092191            3866.20  \n",
      "4       20256         0.113490            2298.85  \n"
     ]
    }
   ],
   "source": [
    "# Mostrar las primeras filas del archivo\n",
    "print(df.head())\n"
   ]
  },
  {
   "cell_type": "markdown",
   "id": "d2dadf5d-36c2-4dfc-9b35-6406efa0b72a",
   "metadata": {},
   "source": [
    "A manera de ejercicio se analiza el campo 'car year', con el fin de filtrar los registros y trabajar con una copia del dataframe donde la antiguedad de los autos sea mayor o igual al 2013. "
   ]
  },
  {
   "cell_type": "code",
   "execution_count": 411,
   "id": "b3e4fff8-eff0-48a6-8db9-0941748c8ed7",
   "metadata": {},
   "outputs": [
    {
     "name": "stdout",
     "output_type": "stream",
     "text": [
      "Salesperson diferentes y sus recuentos:\n",
      "Car Year\n",
      "2013    192970\n",
      "2017    192663\n",
      "2020    192657\n",
      "2015    192595\n",
      "2018    192549\n",
      "2014    192491\n",
      "2010    192462\n",
      "2012    192454\n",
      "2016    192267\n",
      "2019    192225\n",
      "2011    191800\n",
      "2021    191636\n",
      "2022    191231\n",
      "Name: count, dtype: int64\n"
     ]
    }
   ],
   "source": [
    "# contar valores del campo 'car year'\n",
    "car_year_counts = df['Car Year'].value_counts()\n",
    "\n",
    "# mostrar registros\n",
    "print(\"Salesperson diferentes y sus recuentos:\")\n",
    "print(car_year_counts)"
   ]
  },
  {
   "cell_type": "markdown",
   "id": "b44bf237-6337-4957-b2ff-2b4102b71696",
   "metadata": {},
   "source": [
    "Filtro por el campo 'Car Year' donde este sea mayor o igual al 2013, y seguire trabajando con dataframe : df_fil"
   ]
  },
  {
   "cell_type": "code",
   "execution_count": 412,
   "id": "5c6698c5-c09d-49c3-b9dd-9fa305e330e9",
   "metadata": {},
   "outputs": [
    {
     "name": "stdout",
     "output_type": "stream",
     "text": [
      "Total de registros data frame: 1923284\n"
     ]
    }
   ],
   "source": [
    "# Filtrar el DataFrame por el campo 'Car Year', >= 2013\n",
    "df_fil = df[df['Car Year'] >= 2013].copy()\n",
    "\n",
    "#imprimir total de registro\n",
    "total_registro = len(df_fil)\n",
    "print('Total de registros data frame:',total_registro)\n"
   ]
  },
  {
   "cell_type": "code",
   "execution_count": 413,
   "id": "7ba4f7d4-673a-4574-924b-9949177a061c",
   "metadata": {},
   "outputs": [
    {
     "name": "stdout",
     "output_type": "stream",
     "text": [
      "información general sobre los datos\n",
      "<class 'pandas.core.frame.DataFrame'>\n",
      "Index: 1923284 entries, 0 to 2499998\n",
      "Data columns (total 9 columns):\n",
      " #   Column             Dtype  \n",
      "---  ------             -----  \n",
      " 0   Date               object \n",
      " 1   Salesperson        object \n",
      " 2   Customer Name      object \n",
      " 3   Car Make           object \n",
      " 4   Car Model          object \n",
      " 5   Car Year           int64  \n",
      " 6   Sale Price         int64  \n",
      " 7   Commission Rate    float64\n",
      " 8   Commission Earned  float64\n",
      "dtypes: float64(2), int64(2), object(5)\n",
      "memory usage: 146.7+ MB\n",
      "None\n"
     ]
    }
   ],
   "source": [
    "# información general sobre los datos\n",
    "print('información general sobre los datos')\n",
    "print(df_fil.info())"
   ]
  },
  {
   "cell_type": "code",
   "execution_count": 414,
   "id": "09e86ec6-d9ee-4688-89bd-8ca072ce7c7e",
   "metadata": {},
   "outputs": [
    {
     "name": "stdout",
     "output_type": "stream",
     "text": [
      " valores únicos en cada columna\n",
      "Date                     366\n",
      "Salesperson           459174\n",
      "Customer Name         459321\n",
      "Car Make                   5\n",
      "Car Model                  5\n",
      "Car Year                  10\n",
      "Sale Price             40001\n",
      "Commission Rate      1923284\n",
      "Commission Earned     557670\n",
      "dtype: int64\n"
     ]
    }
   ],
   "source": [
    "# valores únicos en cada columna\n",
    "print(' valores únicos en cada columna')\n",
    "print(df_fil.nunique())"
   ]
  },
  {
   "cell_type": "code",
   "execution_count": 415,
   "id": "e624ce66-569b-46c3-b8e6-95e4722eb6d0",
   "metadata": {},
   "outputs": [
    {
     "name": "stdout",
     "output_type": "stream",
     "text": [
      "           Car Year    Sale Price  Commission Rate  Commission Earned\n",
      "count  1.923284e+06  1.923284e+06     1.923284e+06       1.923284e+06\n",
      "mean   2.017494e+03  3.001149e+04     9.998906e-02       3.001011e+03\n",
      "std    2.871169e+00  1.154463e+04     2.886664e-02       1.481442e+03\n",
      "min    2.013000e+03  1.000000e+04     5.000014e-02       5.024000e+02\n",
      "25%    2.015000e+03  2.002300e+04     7.498592e-02       1.821840e+03\n",
      "50%    2.017000e+03  3.000200e+04     1.000030e-01       2.741320e+03\n",
      "75%    2.020000e+03  4.002100e+04     1.249906e-01       3.978180e+03\n",
      "max    2.022000e+03  5.000000e+04     1.500000e-01       7.493820e+03\n"
     ]
    }
   ],
   "source": [
    "# descripción de los datos \n",
    "print(df_fil.describe())"
   ]
  },
  {
   "cell_type": "code",
   "execution_count": 416,
   "id": "c71d7d0b-3503-4598-83f3-6af10986fcd6",
   "metadata": {},
   "outputs": [
    {
     "name": "stdout",
     "output_type": "stream",
     "text": [
      "valores nulos\n",
      "Date                 0\n",
      "Salesperson          0\n",
      "Customer Name        0\n",
      "Car Make             0\n",
      "Car Model            0\n",
      "Car Year             0\n",
      "Sale Price           0\n",
      "Commission Rate      0\n",
      "Commission Earned    0\n",
      "dtype: int64\n"
     ]
    }
   ],
   "source": [
    "# valores nulos en los campos\n",
    "print('valores nulos')\n",
    "print(df_fil.isnull().sum())"
   ]
  },
  {
   "cell_type": "code",
   "execution_count": 417,
   "id": "5eb7dc27-1941-40a8-8b81-4806e5175585",
   "metadata": {},
   "outputs": [
    {
     "name": "stdout",
     "output_type": "stream",
     "text": [
      "Registros duplicados\n",
      "Empty DataFrame\n",
      "Columns: [Date, Salesperson, Customer Name, Car Make, Car Model, Car Year, Sale Price, Commission Rate, Commission Earned]\n",
      "Index: []\n"
     ]
    }
   ],
   "source": [
    "# registros duplicados\n",
    "print('Registros duplicados')\n",
    "duplicates = df_fil[df_fil.duplicated(keep=False)]\n",
    "print(duplicates)"
   ]
  },
  {
   "cell_type": "markdown",
   "id": "2bdb793e-1726-4ace-9972-bb7d588b813d",
   "metadata": {},
   "source": [
    "**Documentar los pasos necesarios para limpiar los datos, indicar que tipo de pasos se sugieren \n",
    "para la limpiez**\n",
    "\n",
    "- Identificar y trata los valores faltantes en el DataFrame, eliminando filas con valores faltantes o imputar valores medios o medianos. (En este caso no hay valores faltantes)\n",
    "- Identificar y eliminar las filas duplicadas del DataFrame(En este caso no hay filas duplicadas)\n",
    "- Corregir o eliminar los datos inconsistentes, por ejemplo, datos negativos en una columna que debe de ser positiva.(En este caso no aplica).\n",
    "- Convertir los tipos de datos que sean necesarios para el analisis ( en este caso cambiare el tipo de dato de la columna 'Date' , 'Sale Price' y 'Commission Earne\n",
    "s.\n",
    " "
   ]
  },
  {
   "cell_type": "code",
   "execution_count": 418,
   "id": "ba840d54-57c1-48e3-ba00-065065f87c97",
   "metadata": {},
   "outputs": [
    {
     "name": "stdout",
     "output_type": "stream",
     "text": [
      "<class 'pandas.core.frame.DataFrame'>\n",
      "Index: 1923284 entries, 0 to 2499998\n",
      "Data columns (total 9 columns):\n",
      " #   Column             Dtype         \n",
      "---  ------             -----         \n",
      " 0   Date               datetime64[ns]\n",
      " 1   Salesperson        object        \n",
      " 2   Customer Name      object        \n",
      " 3   Car Make           object        \n",
      " 4   Car Model          object        \n",
      " 5   Car Year           int64         \n",
      " 6   Sale Price         int64         \n",
      " 7   Commission Rate    float64       \n",
      " 8   Commission Earned  int32         \n",
      "dtypes: datetime64[ns](1), float64(1), int32(1), int64(2), object(4)\n",
      "memory usage: 139.4+ MB\n",
      "None\n",
      "        Date      Salesperson   Customer Name Car Make  Car Model  Car Year  \\\n",
      "0 2022-08-01  Monica Moore MD     Mary Butler   Nissan     Altima      2018   \n",
      "1 2023-03-15     Roberto Rose  Richard Pierce   Nissan      F-150      2016   \n",
      "2 2023-04-29     Ashley Ramos    Sandra Moore     Ford      Civic      2016   \n",
      "3 2022-09-04   Patrick Harris    Johnny Scott     Ford     Altima      2013   \n",
      "4 2022-06-16       Eric Lopez   Vanessa Jones    Honda  Silverado      2022   \n",
      "\n",
      "   Sale Price  Commission Rate  Commission Earned  \n",
      "0       15983         0.070495               1126  \n",
      "1       38474         0.134439               5172  \n",
      "2       33340         0.114536               3818  \n",
      "3       41937         0.092191               3866  \n",
      "4       20256         0.113490               2298  \n"
     ]
    }
   ],
   "source": [
    "# Convertir la columna 'Date' al tipo de datos fecha\n",
    "df_fil['Date'] = pd.to_datetime(df_fil['Date'])\n",
    "\n",
    "# Convertir la columna 'Sale Price' a valores numéricos\n",
    "df_fil['Sale Price'] = pd.to_numeric(df_fil['Sale Price'])\n",
    "\n",
    "# Convertir la columna 'Commission Earned' a int\n",
    "df_fil['Commission Earned'] = df_fil['Commission Earned'].astype(int)\n",
    "\n",
    "\n",
    "print(df_fil.info())\n",
    "print(df_fil.head())"
   ]
  },
  {
   "cell_type": "markdown",
   "id": "e1d95245-c061-4954-ad35-4cdd626a571e",
   "metadata": {},
   "source": [
    "- Para el analisis necesito separar la fecha en año, mes y dia en columnas independientes."
   ]
  },
  {
   "cell_type": "code",
   "execution_count": 419,
   "id": "443e38d5-4972-482e-88af-59c7e45ed99d",
   "metadata": {},
   "outputs": [
    {
     "name": "stdout",
     "output_type": "stream",
     "text": [
      "              Date  Year  Month  Day       Salesperson   Customer Name  \\\n",
      "0       2022-08-01  2022      8    1   Monica Moore MD     Mary Butler   \n",
      "1       2023-03-15  2023      3   15      Roberto Rose  Richard Pierce   \n",
      "2       2023-04-29  2023      4   29      Ashley Ramos    Sandra Moore   \n",
      "3       2022-09-04  2022      9    4    Patrick Harris    Johnny Scott   \n",
      "4       2022-06-16  2022      6   16        Eric Lopez   Vanessa Jones   \n",
      "...            ...   ...    ...  ...               ...             ...   \n",
      "2499992 2023-04-27  2023      4   27     John Alvarado    Kyle Brennan   \n",
      "2499994 2022-07-04  2022      7    4  Matthew Townsend     Nicole Clay   \n",
      "2499995 2022-05-26  2022      5   26    Isabella Moore     Shirley Lee   \n",
      "2499996 2022-10-03  2022     10    3     Kimberly Snow    Tara Rodgers   \n",
      "2499998 2023-02-15  2023      2   15     Donald Barber     Ashley Diaz   \n",
      "\n",
      "          Car Make  Car Model  Car Year  Sale Price  Commission Rate  \\\n",
      "0           Nissan     Altima      2018       15983         0.070495   \n",
      "1           Nissan      F-150      2016       38474         0.134439   \n",
      "2             Ford      Civic      2016       33340         0.114536   \n",
      "3             Ford     Altima      2013       41937         0.092191   \n",
      "4            Honda  Silverado      2022       20256         0.113490   \n",
      "...            ...        ...       ...         ...              ...   \n",
      "2499992     Toyota    Corolla      2013       38427         0.084912   \n",
      "2499994  Chevrolet      Civic      2022       49338         0.067826   \n",
      "2499995  Chevrolet  Silverado      2021       49823         0.062977   \n",
      "2499996       Ford      F-150      2022       18803         0.068339   \n",
      "2499998      Honda  Silverado      2014       26125         0.088260   \n",
      "\n",
      "         Commission Earned  \n",
      "0                     1126  \n",
      "1                     5172  \n",
      "2                     3818  \n",
      "3                     3866  \n",
      "4                     2298  \n",
      "...                    ...  \n",
      "2499992               3262  \n",
      "2499994               3346  \n",
      "2499995               3137  \n",
      "2499996               1284  \n",
      "2499998               2305  \n",
      "\n",
      "[1923284 rows x 12 columns]\n"
     ]
    }
   ],
   "source": [
    "# Insertar las columnas 'Year', 'Month' y 'Day'\n",
    "df_fil.insert(1, 'Year', df_fil['Date'].dt.year)\n",
    "df_fil.insert(2, 'Month', df_fil['Date'].dt.month)\n",
    "df_fil.insert(3, 'Day', df_fil['Date'].dt.day)\n",
    "\n",
    "# Imprimir el DataFrame con las nuevas columnas\n",
    "print(df_fil)"
   ]
  },
  {
   "cell_type": "markdown",
   "id": "ebf4d45f-e94c-4c21-a62f-e003dd6e5d62",
   "metadata": {},
   "source": [
    "- En este caso no necesito la columna 'Day' por lo que la elimino.\n",
    "- Para este analisis no necesitare la taza de porcentaje de la comision por lo que elimino  el campo 'Commission Rate'\n"
   ]
  },
  {
   "cell_type": "code",
   "execution_count": 420,
   "id": "42bae3f1-2b18-4851-958b-ab1fa6684f3a",
   "metadata": {},
   "outputs": [
    {
     "name": "stdout",
     "output_type": "stream",
     "text": [
      "Index(['Date', 'Year', 'Month', 'Salesperson', 'Customer Name', 'Car Make',\n",
      "       'Car Model', 'Car Year', 'Sale Price', 'Commission Earned'],\n",
      "      dtype='object')\n"
     ]
    }
   ],
   "source": [
    "# Eliminar la columna 'Day'\n",
    "df_fil.drop(columns=['Day'], inplace=True)\n",
    "\n",
    "# Eliminar la columna 'Car Year'\n",
    "df_fil.drop(columns=['Commission Rate'], inplace=True)\n",
    "\n",
    "# Columnas actualizadas\n",
    "print(df_fil.columns)\n"
   ]
  },
  {
   "cell_type": "markdown",
   "id": "f5e904fb-51c3-401b-902e-971b1ac125a2",
   "metadata": {},
   "source": [
    "## Paso 3: Definir el modelo de datos\n",
    "**Trazar el modelo de datos conceptual y explicar por qué se eligió ese modelo**\n",
    "![modelo_conceptual](Modelo_conceptual_cars_sale.JPG)\n",
    "\n",
    "Elegi este modelo de entidad-relación porque refleja claramente la estructura de los datos proporcionados y las relaciones entre ellos. La entidad Venta es el elemento central, que vincula vendedores, clientes y automóviles a cada venta específica. De esta manera, podemos rastrear qué vendedor realizó una venta, qué cliente compró el automóvil y qué automóvil se vendió en cada caso.\n"
   ]
  },
  {
   "cell_type": "markdown",
   "id": "08ec6142-9848-4c26-a540-5f49d7b65325",
   "metadata": {},
   "source": [
    "**Indique claramente los motivos de la elección de las herramientas y tecnologías para el\n",
    "proyecto.**\n",
    "\n",
    "-\t**Python** es el lenguaje sugerido en el proyecto además es un lenguaje muy popular para el análisis de datos y uno de los más demandados en el medio.\n",
    "-\t**Pandas** al serla libreria  exclusiao de Python ayuda a que sus funciones para la manipulación de datos permita realizar la limpieza y transformación de datos de manera sencilla.\n",
    "-\t**Jupyter Notebook** proporciona un entorno interactivo que facilita la exploración y el análisis de datos paso a paso de datasets con gran volumen de datos. Además, permite documentar el proceso.\n",
    ".\n"
   ]
  },
  {
   "cell_type": "markdown",
   "id": "fd282d56-26bb-4192-ad96-07e0583d3be1",
   "metadata": {},
   "source": [
    "**Proponga con qué frecuencia deben actualizarse los datos y por qué.**\n",
    "\n",
    "- \tCreería que en este caso los datos deben de ser actualizados mensualmente, ya que lo que se quiere analizar es el comportamiento de las ventas  y el desempeño de los vendedores mes a mes; normalmente en este tipo de negocio se revisan las ventas y demás, basado en los cierres mensuales  y de ahí en adelante, es decir trimestral , semestral y anual.\n"
   ]
  },
  {
   "cell_type": "markdown",
   "id": "cfdfff69-c2b1-4500-a40c-ffcfdc0837b3",
   "metadata": {},
   "source": [
    "## Paso 5: Completar la redacción del proyecto"
   ]
  },
  {
   "cell_type": "markdown",
   "id": "4c3ada98-94e6-4613-82a2-65e8ac9b58e2",
   "metadata": {},
   "source": [
    "**¿Cuál es el objetivo del proyecto?**\n",
    "##### optimizar las estrategias de ventas y comisiones para maximizar las ganancias. Esto incluiría identificar los vendedores más exitosos, las marcas y modelos de automóviles más populares y fidelización de clientes.\n",
    "- Identificar tendencias de ventas a lo largo del tiempo, lo que ayudaría a la empresa a planificar y ajustar sus operaciones y estrategias.\n",
    "- Evaluar el rendimiento individual de los vendedores, identificando fortalezas y áreas de mejora para cada uno de ellos.\n",
    "- identificar las tendencias de compras de los clientes, para generar estrategias de marketing personalizadas y fidelizacion de los clientes.\n"
   ]
  },
  {
   "cell_type": "markdown",
   "id": "555361bc-6e70-4ded-8e9f-8bf7d0868c23",
   "metadata": {},
   "source": [
    "#####  ¿Qué preguntas quieres hacer?\n",
    "1. ¿Total de ventas por mes y por año? "
   ]
  },
  {
   "cell_type": "code",
   "execution_count": 536,
   "id": "8a185376-6557-4bae-81ec-f06c1e64a761",
   "metadata": {},
   "outputs": [
    {
     "name": "stdout",
     "output_type": "stream",
     "text": [
      "Total ventas por año:\n",
      "    año    total ventas\n",
      "0  2022  38,644,773,400\n",
      "1  2023  19,075,845,172\n",
      "Total ventas por mes:\n",
      "     año  mes   total ventas\n",
      "0   2022    5  4,897,311,108\n",
      "1   2022    6  4,735,987,177\n",
      "2   2022    7  4,887,465,211\n",
      "3   2022    8  4,888,037,952\n",
      "4   2022    9  4,717,438,167\n",
      "5   2022   10  4,904,760,345\n",
      "6   2022   11  4,707,538,526\n",
      "7   2022   12  4,906,234,914\n",
      "8   2023    1  4,881,490,501\n",
      "9   2023    2  4,424,838,715\n",
      "10  2023    3  4,884,073,854\n",
      "11  2023    4  4,726,681,501\n",
      "12  2023    5    158,760,601\n"
     ]
    }
   ],
   "source": [
    "# ventas agrupadas año\n",
    "ventas_total_año = df_fil.groupby(['Year'])['Sale Price'].sum().reset_index()\n",
    "ventas_total_año.columns = ['año','total ventas']\n",
    "# formato de miles\n",
    "ventas_total_año['total ventas'] = ventas_total_año['total ventas'].apply('{:,.0f}'.format)\n",
    "\n",
    "# ventas agrupadas por mes\n",
    "ventas_total_mes = df_fil.groupby(['Year', 'Month'])['Sale Price'].sum().reset_index()\n",
    "ventas_total_mes.columns = ['año','mes','total ventas']\n",
    "# formato de miles\n",
    "ventas_total_mes['total ventas'] = ventas_total_mes['total ventas'].apply('{:,.0f}'.format)\n",
    "\n",
    "# mostrar registros\n",
    "print(\"Total ventas por año:\")\n",
    "print(ventas_total_año)\n",
    "print(\"Total ventas por mes:\")\n",
    "print(ventas_total_mes)\n"
   ]
  },
  {
   "cell_type": "markdown",
   "id": "aac8d678-eaf3-4a66-be3b-7b71c14175bc",
   "metadata": {},
   "source": [
    "2. ¿Total de comisiones pagadas por mes y por año? "
   ]
  },
  {
   "cell_type": "code",
   "execution_count": 540,
   "id": "d9526a3f-e2a3-49c3-aa75-4f7af4385602",
   "metadata": {},
   "outputs": [
    {
     "name": "stdout",
     "output_type": "stream",
     "text": [
      "total comisiones por año:\n",
      "    año comision total\n",
      "0  2022  3,863,648,584\n",
      "1  2023  1,907,194,956\n",
      "total comisiones por mes:\n",
      "     año  mes comision total\n",
      "0   2022    5    489,725,991\n",
      "1   2022    6    473,865,311\n",
      "2   2022    7    488,509,089\n",
      "3   2022    8    488,898,225\n",
      "4   2022    9    471,490,823\n",
      "5   2022   10    489,728,218\n",
      "6   2022   11    470,665,505\n",
      "7   2022   12    490,765,422\n",
      "8   2023    1    488,046,633\n",
      "9   2023    2    442,488,782\n",
      "10  2023    3    488,113,611\n",
      "11  2023    4    472,711,347\n",
      "12  2023    5     15,834,583\n"
     ]
    }
   ],
   "source": [
    "# comisiones pagadas por año\n",
    "comision_total_año = df_fil.groupby(['Year'])['Commission Earned'].sum().reset_index()\n",
    "comision_total_año.columns = ['año', 'comision total']\n",
    "\n",
    "# formato de miles\n",
    "comision_total_año['comision total'] = comision_total_año['comision total'].apply('{:,.0f}'.format)\n",
    "\n",
    "# comisiones pagadas por mes \n",
    "comision_total_mes = df_fil.groupby(['Year', 'Month'])['Commission Earned'].sum().reset_index()\n",
    "comision_total_mes.columns =['año','mes','comision total']\n",
    "# formato de miles\n",
    "comision_total_mes['comision total'] = comision_total_mes['comision total'].apply('{:,.0f}'.format)\n",
    "\n",
    "\n",
    "# mostrar registros\n",
    "print(\"total comisiones por año:\")\n",
    "print(comision_total_año)\n",
    "print(\"total comisiones por mes:\")\n",
    "print(comision_total_mes)\n"
   ]
  },
  {
   "cell_type": "markdown",
   "id": "27efb561-8390-4620-95b3-22fdefed7db2",
   "metadata": {},
   "source": [
    "3. ¿Top 5 de los vendedores con mayores y menores ventas?"
   ]
  },
  {
   "cell_type": "code",
   "execution_count": 543,
   "id": "51df1334-1ee5-49fb-a32a-6ec29c86546a",
   "metadata": {},
   "outputs": [
    {
     "name": "stdout",
     "output_type": "stream",
     "text": [
      "Top 5 vendedores con mayores ventas:\n",
      "          vendedor  cantidad ventas total ventas\n",
      "0    Michael Smith              950   28,404,114\n",
      "1  Michael Johnson              759   22,261,785\n",
      "2      David Smith              624   18,186,414\n",
      "3      James Smith              601   18,109,892\n",
      "4     Robert Smith              575   17,432,778\n",
      "Top 5 vendedores con menores ventas:\n",
      "                  vendedor  cantidad ventas total ventas\n",
      "248631       Tanya Watkins                1       10,000\n",
      "260450      Gina Welch PhD                1       10,000\n",
      "382865  Marcus Christensen                1       10,000\n",
      "270636   Margaret Delacruz                1       10,000\n",
      "410827      Bethany Gamble                1       10,000\n"
     ]
    }
   ],
   "source": [
    "# Calcular el total de ventas por vendedor\n",
    "ventas_vendedor = df_fil.groupby('Salesperson')['Sale Price'].sum().reset_index()\n",
    "ventas_vendedor.columns = ['vendedor', 'total ventas']\n",
    "\n",
    "# Contar el número de ventas por vendedor\n",
    "cantidad_ventas_vendedor = df_fil['Salesperson'].value_counts().reset_index()\n",
    "cantidad_ventas_vendedor.columns = ['vendedor', 'cantidad ventas']\n",
    "\n",
    "# Unir las dos consultas en una sola tabla\n",
    "resultados = pd.merge(cantidad_ventas_vendedor,ventas_vendedor, on='vendedor')\n",
    "\n",
    "# ordenar ventas desc, obtener top5\n",
    "top_5_mayores_ventas = resultados.sort_values(by='total ventas', ascending=False).head(5)\n",
    "top_5_mayores_ventas['total ventas'] = top_5_mayores_ventas['total ventas'].apply(lambda x: '{:,.0f}'.format(x))\n",
    "\n",
    "# ordenar ventas asc, obtener top 5\n",
    "top_5_menores_ventas = resultados.sort_values(by='total ventas', ascending=True).head(5)\n",
    "top_5_menores_ventas['total ventas'] = top_5_menores_ventas['total ventas'].apply(lambda x: '{:,.0f}'.format(x))\n",
    "\n",
    "#mostrar registros\n",
    "print(\"Top 5 vendedores con mayores ventas:\")\n",
    "print(top_5_mayores_ventas)\n",
    "\n",
    "print(\"Top 5 vendedores con menores ventas:\")\n",
    "print(top_5_menores_ventas)\n"
   ]
  },
  {
   "cell_type": "markdown",
   "id": "bbabee2f-57d7-4585-b45e-7017a28530fe",
   "metadata": {},
   "source": [
    "4. ¿ cual es la marca de auto mas vendida?"
   ]
  },
  {
   "cell_type": "code",
   "execution_count": 544,
   "id": "9bed208b-27dd-42dc-a535-f58f39713fa4",
   "metadata": {},
   "outputs": [
    {
     "name": "stdout",
     "output_type": "stream",
     "text": [
      "  marca carro cantidad ventas    total ventas\n",
      "0   Chevrolet         385,416  11,565,329,928\n",
      "1       Honda         385,009  11,560,211,682\n",
      "2      Toyota         384,958  11,552,317,705\n",
      "3        Ford         384,487  11,534,856,791\n",
      "4      Nissan         383,414  11,507,902,466\n"
     ]
    }
   ],
   "source": [
    "# ventas totales por marca de automóvil\n",
    "ventas_marca = df_fil.groupby('Car Make')['Sale Price'].sum().reset_index()\n",
    "ventas_marca.columns =['marca carro','total ventas']\n",
    "# ventas por marca de automóvil\n",
    "conteo_ventas_marca = df_fil['Car Make'].value_counts().reset_index()\n",
    "conteo_ventas_marca.columns = ['marca carro','cantidad ventas']\n",
    "\n",
    "# unir las dos consultas en una sola tabla\n",
    "resultados = pd.merge(conteo_ventas_marca,ventas_marca,on= 'marca carro')\n",
    "\n",
    "#aplicar formato de miles\n",
    "resultados['total ventas'] = resultados['total ventas'].apply('{:,.0f}'.format)\n",
    "resultados['cantidad ventas'] = resultados['cantidad ventas'].apply('{:,.0f}'.format)\n",
    "\n",
    "# mostrar registros\n",
    "print(resultados)\n"
   ]
  },
  {
   "cell_type": "markdown",
   "id": "5cf671cf-d480-4769-bfa4-bd766350377e",
   "metadata": {},
   "source": [
    "5.¿Cuáles son los modelos de autos más vendidos?"
   ]
  },
  {
   "cell_type": "code",
   "execution_count": 548,
   "id": "545fa312-68ce-430c-b94b-ae2775e2b6a0",
   "metadata": {},
   "outputs": [
    {
     "name": "stdout",
     "output_type": "stream",
     "text": [
      "Top 10 de modelos de autos mas vendidos\n",
      "  marca carro modelo carro   total ventas cantidad ventas\n",
      "0       Honda    Silverado  2,330,214,563          77,538\n",
      "1   Chevrolet        Civic  2,323,884,339          77,501\n",
      "2      Toyota      Corolla  2,319,012,502          77,223\n",
      "3      Toyota        F-150  2,318,990,509          77,199\n",
      "4   Chevrolet      Corolla  2,317,706,195          77,164\n",
      "5   Chevrolet        F-150  2,315,270,571          77,185\n",
      "6        Ford    Silverado  2,314,673,556          77,176\n",
      "7      Nissan    Silverado  2,313,981,837          76,925\n",
      "8        Ford      Corolla  2,313,967,927          77,042\n",
      "9        Ford       Altima  2,311,783,209          76,886\n"
     ]
    }
   ],
   "source": [
    "# ventas totales por marca y modelo de automóvil\n",
    "ventas_modelo = df_fil.groupby(['Car Make', 'Car Model'])['Sale Price'].sum().reset_index()\n",
    "ventas_modelo.columns = ['marca carro','modelo carro','total ventas']\n",
    "\n",
    "# cantidad de ventas por marca y modelo de automóvil\n",
    "cantidad_ventas_modelo = df_fil.groupby(['Car Make', 'Car Model'])['Sale Price'].count().apply(lambda x: '{:,.0f}'.format(x)).reset_index()\n",
    "cantidad_ventas_modelo.columns = ['marca carro','modelo carro','cantidad ventas']\n",
    "\n",
    "# unir las dos consultas en una sola tabla\n",
    "resultados = pd.merge(ventas_modelo,cantidad_ventas_modelo, on = ['marca carro','modelo carro'] )\n",
    "\n",
    "# ordenar ventas asc, obtener top 5\n",
    "top_10_modelo = resultados.sort_values(by='total ventas', ascending=False).head(10).reset_index(drop=True)\n",
    "\n",
    "#formato miles\n",
    "top_10_modelo['total ventas'] = top_10_modelo['total ventas'].apply(lambda x: '{:,.0f}'.format(x))\n",
    "\n",
    "#mostrar registros\n",
    "print(\"Top 10 de modelos de autos mas vendidos\")\n",
    "print(top_10_modelo)"
   ]
  },
  {
   "cell_type": "markdown",
   "id": "1ffaee39-a2b1-43c6-83cf-1829a2f3983d",
   "metadata": {},
   "source": [
    "6. Con el fin de realizar campañas de mercadeo y de fidelizacion ¿ cual es el cliente que mas compra y su preferencia en marca de carro?"
   ]
  },
  {
   "cell_type": "code",
   "execution_count": 558,
   "id": "f0b5a195-6176-46fb-b0b2-0c0d87016856",
   "metadata": {},
   "outputs": [
    {
     "name": "stdout",
     "output_type": "stream",
     "text": [
      "Ventas ordenadas por marca de mayor a menor:\n",
      "    index            cliente marca carro total ventas\n",
      "0  636552      Michael Smith      Toyota    6,243,706\n",
      "1  636549      Michael Smith        Ford    5,718,565\n",
      "2  636550      Michael Smith       Honda    5,005,433\n",
      "3  636551      Michael Smith      Nissan    4,874,605\n",
      "4  636548      Michael Smith   Chevrolet    4,778,797\n",
      "5  634357    Michael Johnson      Toyota    4,380,208\n",
      "6  634356    Michael Johnson      Nissan    4,240,848\n",
      "7  183966  Christopher Smith        Ford    4,217,353\n",
      "8  637213   Michael Williams      Toyota    4,183,123\n",
      "9  235074        David Smith       Honda    4,149,083\n"
     ]
    }
   ],
   "source": [
    "# ventas totales por marca de automóvil\n",
    "ventas_cliente = df_fil.groupby(['Customer Name','Car Make'])['Sale Price'].sum().reset_index()\n",
    "ventas_cliente.columns = ['cliente','marca carro','total ventas']\n",
    "\n",
    "\n",
    "top_10_ventas = ventas_cliente.sort_values(by='total ventas', ascending=False).head(10).reset_index()\n",
    "#formato miles\n",
    "top_10_ventas['total ventas'] = top_10_ventas['total ventas'].apply(lambda x: '{:,.0f}'.format(x))\n",
    "\n",
    "# mostrar registros\n",
    "print(\"Ventas ordenadas por marca de mayor a menor:\")\n",
    "print(top_10_ventas)\n"
   ]
  },
  {
   "cell_type": "markdown",
   "id": "d88513bb-80d7-4210-94e7-4c59ee81cd6e",
   "metadata": {},
   "source": [
    "###**Incluya una descripción de cómo abordaría el problema de manera diferente en los siguientes escenarios:**\n",
    "    \n",
    "**Si los datos se incrementaran en 100X**\n",
    "\n",
    "- **Capacidad de procesamiento:** se necesitaría contar con un hardware más potente o utilizar servicios en la nube con los que puedan manejar grandes volúmenes de datos, como Amazon Web Services (AWS), Microsoft Azure, Google Cloud Platform (GCP).\n",
    "\n",
    "- **Muestreo aleatorio:** Si el tamaño de los datos se vuelve demasiado grande para trabajar de manera eficiente en un entorno local, se puede considerar realizar un muestreo aleatorio de los datos para obtener una muestra representativa y más manejable para el análisis.\n",
    "\n",
    "- **Uso de tecnologías Big Data:** Si el volumen de datos es masivo y supera la capacidad de manejo de una sola máquina, se podría considerar el uso de tecnologías Big Data como Apache Hadoop o Apache Spark, que están diseñadas para procesar y analizar grandes conjuntos de datos distribuidos en clústeres de máquinas.\n"
   ]
  },
  {
   "cell_type": "code",
   "execution_count": null,
   "id": "da373dfa-519f-4e97-b77f-39544e9ca26a",
   "metadata": {},
   "outputs": [],
   "source": []
  }
 ],
 "metadata": {
  "kernelspec": {
   "display_name": "Python 3 (ipykernel)",
   "language": "python",
   "name": "python3"
  },
  "language_info": {
   "codemirror_mode": {
    "name": "ipython",
    "version": 3
   },
   "file_extension": ".py",
   "mimetype": "text/x-python",
   "name": "python",
   "nbconvert_exporter": "python",
   "pygments_lexer": "ipython3",
   "version": "3.11.3"
  }
 },
 "nbformat": 4,
 "nbformat_minor": 5
}
